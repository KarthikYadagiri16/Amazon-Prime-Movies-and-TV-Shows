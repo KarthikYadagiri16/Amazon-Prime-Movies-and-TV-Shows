{
 "cells": [
  {
   "cell_type": "markdown",
   "metadata": {},
   "source": [
    "# INTRODUCTION\n"
   ]
  },
  {
   "cell_type": "markdown",
   "metadata": {},
   "source": [
    "This dataset consists of TV Shows and Movies available on Amazon as of 2021. The dataset is collected from Kaggle.This data set was created so as to analyze the latest shows available on Amazon Prime as well as the shows with a high rating.\n",
    "\n",
    "\n",
    "Amazon Prime is a paid subscription service from Amazon which is available in various countries and gives users access to additional services otherwise unavailable or available at a premium to other Amazon customers. Services include same, one- or two-day delivery of goods and streaming music, video, e-books, gaming and grocery shopping services. \n",
    "\n",
    "As per the Amazon Prime statistics available in 2022, the number of Amazon Prime users worldwide increased from 99.7 million in 2018 to 148.6 million in 2020. That’s a huge growth over a two-year time period.\n",
    "\n",
    "Moreover, by the spring of 2021, it will accomplish the 200 million milestones. That means it had succeeded in gaining over 50 million subscribers within just a few months.\n",
    "\n",
    "Integrating this dataset with other external datasets such as IMDB ratings, rotten tomatoes can also provide many interesting findings.\n",
    "\n",
    "\n"
   ]
  },
  {
   "cell_type": "markdown",
   "metadata": {},
   "source": [
    "#    INSIGHTS OF AMAZON PRIME MOVIES AND TV SHOWS DATA SET"
   ]
  },
  {
   "cell_type": "markdown",
   "metadata": {},
   "source": [
    "\n",
    "    1.Import Dataset into System.\n",
    "    2.Showing how many rows and columns are present in the datset.\n",
    "    3.What is the datatype of each column.\n",
    "    4.Is there any missing values in the dataset.\n",
    "    5.Show missing values in each column along with their %.\n",
    "    6.Divide the column duration into duration_movie and duration_season.\n",
    "    7.Divide the column listed_in genre1,genre2 etc. to capture revenant genre.\n",
    "    8.What is the time peroid range of this dataset.\n",
    "    9.How many movies and tv shows are present.Show both count and % of total.\n",
    "    10.What type of movies are mostly present on genre1.\n",
    "    11.What type of tv shows are mostly present on genre1.\n",
    "    12.Clean the new duration columns and remove min and seasons from numbers.\n",
    "    13.What is average time of movie by genre1.\n",
    "    14.Highest movies and tv shows by director.\n",
    "    15.Which type of genre generally have highest and lowest duration in both movie and tv shows.\n",
    "    16.Each year how many movie and tv shows released.\n",
    "    17.Which of genre is released more each year.\n",
    "    18.How many kids movie and tv shows are released each year.\n",
    "    19.Are seeing a trend change genre1 based on movie and tv shows release each year.\n",
    "    20.Highest number of TV shows and Movies released in a year.\n",
    "    \n",
    "    "
   ]
  },
  {
   "cell_type": "code",
   "execution_count": 26,
   "metadata": {
    "_cell_guid": "b1076dfc-b9ad-4769-8c92-a6c4dae69d19",
    "_uuid": "8f2839f25d086af736a60e9eeb907d3b93b6e0e5",
    "execution": {
     "iopub.execute_input": "2021-06-21T07:17:56.495197Z",
     "iopub.status.busy": "2021-06-21T07:17:56.494564Z",
     "iopub.status.idle": "2021-06-21T07:17:57.520926Z",
     "shell.execute_reply": "2021-06-21T07:17:57.519768Z",
     "shell.execute_reply.started": "2021-06-21T07:17:56.495091Z"
    }
   },
   "outputs": [],
   "source": [
    "#IMPORTING LIBRARIES \n",
    "import numpy as np \n",
    "import pandas as pd\n",
    "import matplotlib.pyplot as plt\n",
    "import seaborn as sns"
   ]
  },
  {
   "cell_type": "code",
   "execution_count": 27,
   "metadata": {
    "execution": {
     "iopub.execute_input": "2021-06-21T07:18:14.234264Z",
     "iopub.status.busy": "2021-06-21T07:18:14.23396Z",
     "iopub.status.idle": "2021-06-21T07:18:14.251981Z",
     "shell.execute_reply": "2021-06-21T07:18:14.25094Z",
     "shell.execute_reply.started": "2021-06-21T07:18:14.23424Z"
    }
   },
   "outputs": [],
   "source": [
    "amazonPrime= pd.read_csv(\"C:/Users/hp/Downloads/amazon_prime_titles.csv/amazon_prime_titles.csv\")"
   ]
  },
  {
   "cell_type": "code",
   "execution_count": 28,
   "metadata": {
    "execution": {
     "iopub.execute_input": "2021-06-21T07:18:32.275331Z",
     "iopub.status.busy": "2021-06-21T07:18:32.27494Z",
     "iopub.status.idle": "2021-06-21T07:18:32.314128Z",
     "shell.execute_reply": "2021-06-21T07:18:32.312733Z",
     "shell.execute_reply.started": "2021-06-21T07:18:32.2753Z"
    }
   },
   "outputs": [
    {
     "data": {
      "text/html": [
       "<div>\n",
       "<style scoped>\n",
       "    .dataframe tbody tr th:only-of-type {\n",
       "        vertical-align: middle;\n",
       "    }\n",
       "\n",
       "    .dataframe tbody tr th {\n",
       "        vertical-align: top;\n",
       "    }\n",
       "\n",
       "    .dataframe thead th {\n",
       "        text-align: right;\n",
       "    }\n",
       "</style>\n",
       "<table border=\"1\" class=\"dataframe\">\n",
       "  <thead>\n",
       "    <tr style=\"text-align: right;\">\n",
       "      <th></th>\n",
       "      <th>show_id</th>\n",
       "      <th>type</th>\n",
       "      <th>title</th>\n",
       "      <th>director</th>\n",
       "      <th>cast</th>\n",
       "      <th>country</th>\n",
       "      <th>date_added</th>\n",
       "      <th>release_year</th>\n",
       "      <th>rating</th>\n",
       "      <th>duration</th>\n",
       "      <th>listed_in</th>\n",
       "      <th>description</th>\n",
       "    </tr>\n",
       "  </thead>\n",
       "  <tbody>\n",
       "    <tr>\n",
       "      <th>0</th>\n",
       "      <td>s1</td>\n",
       "      <td>Movie</td>\n",
       "      <td>The Grand Seduction</td>\n",
       "      <td>Don McKellar</td>\n",
       "      <td>Brendan Gleeson, Taylor Kitsch, Gordon Pinsent</td>\n",
       "      <td>Canada</td>\n",
       "      <td>March 30, 2021</td>\n",
       "      <td>2014</td>\n",
       "      <td>NaN</td>\n",
       "      <td>113 min</td>\n",
       "      <td>Comedy, Drama</td>\n",
       "      <td>A small fishing village must procure a local d...</td>\n",
       "    </tr>\n",
       "    <tr>\n",
       "      <th>1</th>\n",
       "      <td>s2</td>\n",
       "      <td>Movie</td>\n",
       "      <td>Take Care Good Night</td>\n",
       "      <td>Girish Joshi</td>\n",
       "      <td>Mahesh Manjrekar, Abhay Mahajan, Sachin Khedekar</td>\n",
       "      <td>India</td>\n",
       "      <td>March 30, 2021</td>\n",
       "      <td>2018</td>\n",
       "      <td>13+</td>\n",
       "      <td>110 min</td>\n",
       "      <td>Drama, International</td>\n",
       "      <td>A Metro Family decides to fight a Cyber Crimin...</td>\n",
       "    </tr>\n",
       "    <tr>\n",
       "      <th>2</th>\n",
       "      <td>s3</td>\n",
       "      <td>Movie</td>\n",
       "      <td>Secrets of Deception</td>\n",
       "      <td>Josh Webber</td>\n",
       "      <td>Tom Sizemore, Lorenzo Lamas, Robert LaSardo, R...</td>\n",
       "      <td>United States</td>\n",
       "      <td>March 30, 2021</td>\n",
       "      <td>2017</td>\n",
       "      <td>NaN</td>\n",
       "      <td>74 min</td>\n",
       "      <td>Action, Drama, Suspense</td>\n",
       "      <td>After a man discovers his wife is cheating on ...</td>\n",
       "    </tr>\n",
       "    <tr>\n",
       "      <th>3</th>\n",
       "      <td>s4</td>\n",
       "      <td>Movie</td>\n",
       "      <td>Pink: Staying True</td>\n",
       "      <td>Sonia Anderson</td>\n",
       "      <td>Interviews with: Pink, Adele, Beyoncé, Britney...</td>\n",
       "      <td>United States</td>\n",
       "      <td>March 30, 2021</td>\n",
       "      <td>2014</td>\n",
       "      <td>NaN</td>\n",
       "      <td>69 min</td>\n",
       "      <td>Documentary</td>\n",
       "      <td>Pink breaks the mold once again, bringing her ...</td>\n",
       "    </tr>\n",
       "    <tr>\n",
       "      <th>4</th>\n",
       "      <td>s5</td>\n",
       "      <td>Movie</td>\n",
       "      <td>Monster Maker</td>\n",
       "      <td>Giles Foster</td>\n",
       "      <td>Harry Dean Stanton, Kieran O'Brien, George Cos...</td>\n",
       "      <td>United Kingdom</td>\n",
       "      <td>March 30, 2021</td>\n",
       "      <td>1989</td>\n",
       "      <td>NaN</td>\n",
       "      <td>45 min</td>\n",
       "      <td>Drama, Fantasy</td>\n",
       "      <td>Teenage Matt Banting wants to work with a famo...</td>\n",
       "    </tr>\n",
       "  </tbody>\n",
       "</table>\n",
       "</div>"
      ],
      "text/plain": [
       "  show_id   type                 title        director  \\\n",
       "0      s1  Movie   The Grand Seduction    Don McKellar   \n",
       "1      s2  Movie  Take Care Good Night    Girish Joshi   \n",
       "2      s3  Movie  Secrets of Deception     Josh Webber   \n",
       "3      s4  Movie    Pink: Staying True  Sonia Anderson   \n",
       "4      s5  Movie         Monster Maker    Giles Foster   \n",
       "\n",
       "                                                cast         country  \\\n",
       "0     Brendan Gleeson, Taylor Kitsch, Gordon Pinsent          Canada   \n",
       "1   Mahesh Manjrekar, Abhay Mahajan, Sachin Khedekar           India   \n",
       "2  Tom Sizemore, Lorenzo Lamas, Robert LaSardo, R...   United States   \n",
       "3  Interviews with: Pink, Adele, Beyoncé, Britney...   United States   \n",
       "4  Harry Dean Stanton, Kieran O'Brien, George Cos...  United Kingdom   \n",
       "\n",
       "       date_added  release_year rating duration                listed_in  \\\n",
       "0  March 30, 2021          2014    NaN  113 min            Comedy, Drama   \n",
       "1  March 30, 2021          2018    13+  110 min     Drama, International   \n",
       "2  March 30, 2021          2017    NaN   74 min  Action, Drama, Suspense   \n",
       "3  March 30, 2021          2014    NaN   69 min              Documentary   \n",
       "4  March 30, 2021          1989    NaN   45 min           Drama, Fantasy   \n",
       "\n",
       "                                         description  \n",
       "0  A small fishing village must procure a local d...  \n",
       "1  A Metro Family decides to fight a Cyber Crimin...  \n",
       "2  After a man discovers his wife is cheating on ...  \n",
       "3  Pink breaks the mold once again, bringing her ...  \n",
       "4  Teenage Matt Banting wants to work with a famo...  "
      ]
     },
     "execution_count": 28,
     "metadata": {},
     "output_type": "execute_result"
    }
   ],
   "source": [
    "amazonPrime.head()"
   ]
  },
  {
   "cell_type": "code",
   "execution_count": 5,
   "metadata": {
    "execution": {
     "iopub.execute_input": "2021-06-21T07:18:42.787811Z",
     "iopub.status.busy": "2021-06-21T07:18:42.787469Z",
     "iopub.status.idle": "2021-06-21T07:18:42.815185Z",
     "shell.execute_reply": "2021-06-21T07:18:42.813846Z",
     "shell.execute_reply.started": "2021-06-21T07:18:42.787781Z"
    }
   },
   "outputs": [
    {
     "data": {
      "text/html": [
       "<div>\n",
       "<style scoped>\n",
       "    .dataframe tbody tr th:only-of-type {\n",
       "        vertical-align: middle;\n",
       "    }\n",
       "\n",
       "    .dataframe tbody tr th {\n",
       "        vertical-align: top;\n",
       "    }\n",
       "\n",
       "    .dataframe thead th {\n",
       "        text-align: right;\n",
       "    }\n",
       "</style>\n",
       "<table border=\"1\" class=\"dataframe\">\n",
       "  <thead>\n",
       "    <tr style=\"text-align: right;\">\n",
       "      <th></th>\n",
       "      <th>release_year</th>\n",
       "    </tr>\n",
       "  </thead>\n",
       "  <tbody>\n",
       "    <tr>\n",
       "      <th>count</th>\n",
       "      <td>9668.000000</td>\n",
       "    </tr>\n",
       "    <tr>\n",
       "      <th>mean</th>\n",
       "      <td>2008.341849</td>\n",
       "    </tr>\n",
       "    <tr>\n",
       "      <th>std</th>\n",
       "      <td>18.922482</td>\n",
       "    </tr>\n",
       "    <tr>\n",
       "      <th>min</th>\n",
       "      <td>1920.000000</td>\n",
       "    </tr>\n",
       "    <tr>\n",
       "      <th>25%</th>\n",
       "      <td>2007.000000</td>\n",
       "    </tr>\n",
       "    <tr>\n",
       "      <th>50%</th>\n",
       "      <td>2016.000000</td>\n",
       "    </tr>\n",
       "    <tr>\n",
       "      <th>75%</th>\n",
       "      <td>2019.000000</td>\n",
       "    </tr>\n",
       "    <tr>\n",
       "      <th>max</th>\n",
       "      <td>2021.000000</td>\n",
       "    </tr>\n",
       "  </tbody>\n",
       "</table>\n",
       "</div>"
      ],
      "text/plain": [
       "       release_year\n",
       "count   9668.000000\n",
       "mean    2008.341849\n",
       "std       18.922482\n",
       "min     1920.000000\n",
       "25%     2007.000000\n",
       "50%     2016.000000\n",
       "75%     2019.000000\n",
       "max     2021.000000"
      ]
     },
     "execution_count": 5,
     "metadata": {},
     "output_type": "execute_result"
    }
   ],
   "source": [
    "amazonPrime.describe()"
   ]
  },
  {
   "cell_type": "code",
   "execution_count": 6,
   "metadata": {
    "execution": {
     "iopub.execute_input": "2021-06-21T07:19:09.307945Z",
     "iopub.status.busy": "2021-06-21T07:19:09.307603Z",
     "iopub.status.idle": "2021-06-21T07:19:09.326361Z",
     "shell.execute_reply": "2021-06-21T07:19:09.325733Z",
     "shell.execute_reply.started": "2021-06-21T07:19:09.307916Z"
    }
   },
   "outputs": [
    {
     "name": "stdout",
     "output_type": "stream",
     "text": [
      "<class 'pandas.core.frame.DataFrame'>\n",
      "RangeIndex: 9668 entries, 0 to 9667\n",
      "Data columns (total 12 columns):\n",
      " #   Column        Non-Null Count  Dtype \n",
      "---  ------        --------------  ----- \n",
      " 0   show_id       9668 non-null   object\n",
      " 1   type          9668 non-null   object\n",
      " 2   title         9668 non-null   object\n",
      " 3   director      7586 non-null   object\n",
      " 4   cast          8435 non-null   object\n",
      " 5   country       672 non-null    object\n",
      " 6   date_added    155 non-null    object\n",
      " 7   release_year  9668 non-null   int64 \n",
      " 8   rating        9331 non-null   object\n",
      " 9   duration      9668 non-null   object\n",
      " 10  listed_in     9668 non-null   object\n",
      " 11  description   9668 non-null   object\n",
      "dtypes: int64(1), object(11)\n",
      "memory usage: 906.5+ KB\n"
     ]
    }
   ],
   "source": [
    "amazonPrime.info()"
   ]
  },
  {
   "cell_type": "code",
   "execution_count": 7,
   "metadata": {
    "execution": {
     "iopub.execute_input": "2021-06-21T07:21:10.452797Z",
     "iopub.status.busy": "2021-06-21T07:21:10.452464Z",
     "iopub.status.idle": "2021-06-21T07:21:10.461505Z",
     "shell.execute_reply": "2021-06-21T07:21:10.460064Z",
     "shell.execute_reply.started": "2021-06-21T07:21:10.452773Z"
    }
   },
   "outputs": [
    {
     "data": {
      "text/plain": [
       "show_id            0\n",
       "type               0\n",
       "title              0\n",
       "director        2082\n",
       "cast            1233\n",
       "country         8996\n",
       "date_added      9513\n",
       "release_year       0\n",
       "rating           337\n",
       "duration           0\n",
       "listed_in          0\n",
       "description        0\n",
       "dtype: int64"
      ]
     },
     "execution_count": 7,
     "metadata": {},
     "output_type": "execute_result"
    }
   ],
   "source": [
    "amazonPrime.isnull().sum()"
   ]
  },
  {
   "cell_type": "code",
   "execution_count": 8,
   "metadata": {
    "execution": {
     "iopub.execute_input": "2021-06-21T07:23:22.39066Z",
     "iopub.status.busy": "2021-06-21T07:23:22.390316Z",
     "iopub.status.idle": "2021-06-21T07:23:22.39891Z",
     "shell.execute_reply": "2021-06-21T07:23:22.398378Z",
     "shell.execute_reply.started": "2021-06-21T07:23:22.39063Z"
    }
   },
   "outputs": [
    {
     "data": {
      "text/plain": [
       "array(['Don McKellar', 'Girish Joshi', 'Josh Webber', ...,\n",
       "       'John-Paul Davidson, Stephen Warbeck', 'Emily Skye',\n",
       "       'Steve Barker'], dtype=object)"
      ]
     },
     "execution_count": 8,
     "metadata": {},
     "output_type": "execute_result"
    }
   ],
   "source": [
    "amazonPrime['director'].unique()"
   ]
  },
  {
   "cell_type": "code",
   "execution_count": 9,
   "metadata": {
    "execution": {
     "iopub.execute_input": "2021-06-21T07:23:45.391913Z",
     "iopub.status.busy": "2021-06-21T07:23:45.391444Z",
     "iopub.status.idle": "2021-06-21T07:23:45.40065Z",
     "shell.execute_reply": "2021-06-21T07:23:45.398956Z",
     "shell.execute_reply.started": "2021-06-21T07:23:45.391874Z"
    }
   },
   "outputs": [],
   "source": [
    "amazonPrime['director'].fillna(amazonPrime['director'].value_counts().index[0],inplace=True)"
   ]
  },
  {
   "cell_type": "code",
   "execution_count": 10,
   "metadata": {
    "execution": {
     "iopub.execute_input": "2021-06-21T07:23:56.086226Z",
     "iopub.status.busy": "2021-06-21T07:23:56.085859Z",
     "iopub.status.idle": "2021-06-21T07:23:56.095858Z",
     "shell.execute_reply": "2021-06-21T07:23:56.094765Z",
     "shell.execute_reply.started": "2021-06-21T07:23:56.086196Z"
    }
   },
   "outputs": [
    {
     "data": {
      "text/plain": [
       "show_id            0\n",
       "type               0\n",
       "title              0\n",
       "director           0\n",
       "cast            1233\n",
       "country         8996\n",
       "date_added      9513\n",
       "release_year       0\n",
       "rating           337\n",
       "duration           0\n",
       "listed_in          0\n",
       "description        0\n",
       "dtype: int64"
      ]
     },
     "execution_count": 10,
     "metadata": {},
     "output_type": "execute_result"
    }
   ],
   "source": [
    "amazonPrime.isnull().sum()"
   ]
  },
  {
   "cell_type": "code",
   "execution_count": 11,
   "metadata": {
    "execution": {
     "iopub.execute_input": "2021-06-21T07:26:03.615988Z",
     "iopub.status.busy": "2021-06-21T07:26:03.615646Z",
     "iopub.status.idle": "2021-06-21T07:26:03.623008Z",
     "shell.execute_reply": "2021-06-21T07:26:03.621816Z",
     "shell.execute_reply.started": "2021-06-21T07:26:03.61596Z"
    }
   },
   "outputs": [
    {
     "data": {
      "text/plain": [
       "array(['Brendan Gleeson, Taylor Kitsch, Gordon Pinsent',\n",
       "       'Mahesh Manjrekar, Abhay Mahajan, Sachin Khedekar',\n",
       "       'Tom Sizemore, Lorenzo Lamas, Robert LaSardo, Richard Jones, Yancey Arias, Noel Gugliemi',\n",
       "       ...,\n",
       "       'Ray Stevenson, Julian Wadham, Richard Brake, Michael Smiley, Enoch Frost',\n",
       "       'Esteban Recagno, Ezequiel Stremiz, Luciano Vittori, Pablo Rodríguez Albi, Leonard Kunz, Juanma Muniagurria, Julieta Cardinali, Nazareno Casero, Rita Cortese, Laura Esquivel, Nicolás Furtado, Nicolas Goldschmidt',\n",
       "       'Michael Caine, Emily Mortimer, Joseph Gilgun, Sean Harris'],\n",
       "      dtype=object)"
      ]
     },
     "execution_count": 11,
     "metadata": {},
     "output_type": "execute_result"
    }
   ],
   "source": [
    "amazonPrime['cast'].unique()"
   ]
  },
  {
   "cell_type": "code",
   "execution_count": 12,
   "metadata": {
    "execution": {
     "iopub.execute_input": "2021-06-21T07:26:14.385632Z",
     "iopub.status.busy": "2021-06-21T07:26:14.385286Z",
     "iopub.status.idle": "2021-06-21T07:26:14.391873Z",
     "shell.execute_reply": "2021-06-21T07:26:14.390872Z",
     "shell.execute_reply.started": "2021-06-21T07:26:14.385603Z"
    }
   },
   "outputs": [],
   "source": [
    "amazonPrime['cast'].fillna(amazonPrime['cast'].value_counts().index[0],inplace=True)"
   ]
  },
  {
   "cell_type": "code",
   "execution_count": 13,
   "metadata": {
    "execution": {
     "iopub.execute_input": "2021-06-21T07:26:34.224219Z",
     "iopub.status.busy": "2021-06-21T07:26:34.223902Z",
     "iopub.status.idle": "2021-06-21T07:26:34.232989Z",
     "shell.execute_reply": "2021-06-21T07:26:34.231977Z",
     "shell.execute_reply.started": "2021-06-21T07:26:34.22419Z"
    }
   },
   "outputs": [
    {
     "data": {
      "text/plain": [
       "show_id            0\n",
       "type               0\n",
       "title              0\n",
       "director           0\n",
       "cast               0\n",
       "country         8996\n",
       "date_added      9513\n",
       "release_year       0\n",
       "rating           337\n",
       "duration           0\n",
       "listed_in          0\n",
       "description        0\n",
       "dtype: int64"
      ]
     },
     "execution_count": 13,
     "metadata": {},
     "output_type": "execute_result"
    }
   ],
   "source": [
    "amazonPrime.isnull().sum()"
   ]
  },
  {
   "cell_type": "code",
   "execution_count": 14,
   "metadata": {
    "execution": {
     "iopub.execute_input": "2021-06-21T07:26:46.121025Z",
     "iopub.status.busy": "2021-06-21T07:26:46.120707Z",
     "iopub.status.idle": "2021-06-21T07:26:46.126958Z",
     "shell.execute_reply": "2021-06-21T07:26:46.125968Z",
     "shell.execute_reply.started": "2021-06-21T07:26:46.120997Z"
    }
   },
   "outputs": [
    {
     "data": {
      "text/plain": [
       "array(['Canada', 'India', 'United States', 'United Kingdom', 'France',\n",
       "       'Spain', nan, 'Italy', 'United Kingdom, France',\n",
       "       'United States, Italy', 'United States, India',\n",
       "       'United Kingdom, United States',\n",
       "       'United States, United Kingdom, Germany', 'Japan',\n",
       "       'China, United States, United Kingdom',\n",
       "       'Denmark, United Kingdom, Czech Republic, Netherlands',\n",
       "       'United States, Ireland', 'United States, United Kingdom, Canada',\n",
       "       'United Kingdom, United States, India', 'United Kingdom, India',\n",
       "       'United States, China', 'Canada, United States',\n",
       "       'United States, Thailand', 'Brazil, United States, India',\n",
       "       'Switzerland, India', 'United Kingdom, Canada, United States',\n",
       "       'Germany', 'Australia', 'Belgium',\n",
       "       'Chile, Argentina, United States', 'Mexico',\n",
       "       'Denmark, Sweden, United States', 'Netherlands',\n",
       "       'United States, United Kingdom', 'New Zealand',\n",
       "       'United States, Portugal', 'United States, France',\n",
       "       'Canada, United States, Brazil', 'France, United States',\n",
       "       'India, United States', 'India, Sweden',\n",
       "       'United Kingdom, Hungary, United States',\n",
       "       'Czech Republic, Germany', 'United Kingdom, France, United States',\n",
       "       'Iran, France', 'United States, France, Denmark', 'Brazil',\n",
       "       'Ireland, Belgium, France, Luxembourg, United Kingdom',\n",
       "       'United States, Germany, Brazil, Italy', 'South Africa',\n",
       "       'Australia, United States, Germany',\n",
       "       'Germany, Austria, United States',\n",
       "       'France, China, Belgium, Monaco', 'Egypt',\n",
       "       'United States, Austria', 'United States, United Arab Emirates',\n",
       "       'United States, Belgium, Denmark, France', 'Switzerland',\n",
       "       'United States, Canada',\n",
       "       'India, United States, United Kingdom, Canada, China',\n",
       "       'India, South Africa, Brazil', 'United States, Germany',\n",
       "       'United States, Japan, Singapore, South Korea',\n",
       "       'Afghanistan, France', 'Australia, Colombia, United Kingdom',\n",
       "       'United States, Sweden, Norway', 'Kosovo, Netherlands',\n",
       "       'Spain, United Kingdom, Italy', 'Austria', 'United Kingdom, Spain',\n",
       "       'United States, United Kingdom, Kazakhstan', 'Malaysia',\n",
       "       'Poland, United States', 'Canada, Germany', 'India, Denmark',\n",
       "       'United States, Switzerland', 'United States, Germany, Italy',\n",
       "       'Denmark, France', 'Japan, France',\n",
       "       'Kosovo, Albania, United States, Georgia', 'United States, Japan',\n",
       "       'Germany, Canada, United States, France, United Kingdom',\n",
       "       'United States, Mexico',\n",
       "       'United States, Germany, Japan, United Kingdom, Hong Kong',\n",
       "       'Italy, Canada', 'France, Belgium', 'Italy, Spain'], dtype=object)"
      ]
     },
     "execution_count": 14,
     "metadata": {},
     "output_type": "execute_result"
    }
   ],
   "source": [
    "amazonPrime['country'].unique()"
   ]
  },
  {
   "cell_type": "code",
   "execution_count": 16,
   "metadata": {
    "execution": {
     "iopub.execute_input": "2021-06-21T07:26:58.272181Z",
     "iopub.status.busy": "2021-06-21T07:26:58.271758Z",
     "iopub.status.idle": "2021-06-21T07:26:58.277336Z",
     "shell.execute_reply": "2021-06-21T07:26:58.27655Z",
     "shell.execute_reply.started": "2021-06-21T07:26:58.272139Z"
    }
   },
   "outputs": [],
   "source": [
    "amazonPrime['country'].fillna(amazonPrime['country'].value_counts().index[0],inplace=True)"
   ]
  },
  {
   "cell_type": "code",
   "execution_count": 18,
   "metadata": {
    "execution": {
     "iopub.execute_input": "2021-06-21T07:27:07.369256Z",
     "iopub.status.busy": "2021-06-21T07:27:07.368872Z",
     "iopub.status.idle": "2021-06-21T07:27:07.378194Z",
     "shell.execute_reply": "2021-06-21T07:27:07.377229Z",
     "shell.execute_reply.started": "2021-06-21T07:27:07.369215Z"
    }
   },
   "outputs": [
    {
     "data": {
      "text/plain": [
       "show_id            0\n",
       "type               0\n",
       "title              0\n",
       "director           0\n",
       "cast               0\n",
       "country            0\n",
       "date_added      9513\n",
       "release_year       0\n",
       "rating           337\n",
       "duration           0\n",
       "listed_in          0\n",
       "description        0\n",
       "dtype: int64"
      ]
     },
     "execution_count": 18,
     "metadata": {},
     "output_type": "execute_result"
    }
   ],
   "source": [
    "amazonPrime.isnull().sum()"
   ]
  },
  {
   "cell_type": "code",
   "execution_count": 19,
   "metadata": {
    "execution": {
     "iopub.execute_input": "2021-06-21T07:27:29.543384Z",
     "iopub.status.busy": "2021-06-21T07:27:29.543023Z",
     "iopub.status.idle": "2021-06-21T07:27:29.549472Z",
     "shell.execute_reply": "2021-06-21T07:27:29.548619Z",
     "shell.execute_reply.started": "2021-06-21T07:27:29.543353Z"
    }
   },
   "outputs": [
    {
     "data": {
      "text/plain": [
       "array(['March 30, 2021', 'April 1, 2021', 'April 4, 2021',\n",
       "       'April 10, 2021', 'April 17, 2021', 'April 24, 2021',\n",
       "       'May 2, 2021', 'June 3, 2021', nan, 'April 13, 2021',\n",
       "       'April 20, 2021', 'April 26, 2021', 'April 27, 2021',\n",
       "       'April 30, 2021', 'May 1, 2021', 'May 9, 2021', 'May 11, 2021',\n",
       "       'May 12, 2021', 'May 13, 2021', 'May 18, 2021', 'May 19, 2021',\n",
       "       'May 22, 2021', 'May 24, 2021', 'May 29, 2021', 'June 4, 2021',\n",
       "       'June 11, 2021', 'June 12, 2021', 'June 15, 2021', 'June 18, 2021',\n",
       "       'June 20, 2021', 'June 21, 2021', 'June 22, 2021', 'June 23, 2021',\n",
       "       'June 24, 2021', 'June 25, 2021', 'June 26, 2021', 'June 29, 2021',\n",
       "       'July 1, 2021', 'July 3, 2021', 'July 8, 2021', 'July 12, 2021',\n",
       "       'July 16, 2021', 'July 17, 2021', 'July 20, 2021', 'July 23, 2021',\n",
       "       'July 24, 2021', 'July 26, 2021', 'July 27, 2021',\n",
       "       'August 1, 2021', 'August 4, 2021', 'August 6, 2021',\n",
       "       'August 14, 2021', 'August 15, 2021', 'August 16, 2021',\n",
       "       'August 17, 2021', 'August 18, 2021', 'August 21, 2021',\n",
       "       'August 26, 2021', 'August 27, 2021', 'August 29, 2021',\n",
       "       'September 2, 2021', 'September 4, 2021', 'September 9, 2021',\n",
       "       'September 10, 2021', 'September 11, 2021', 'September 12, 2021',\n",
       "       'September 14, 2021', 'September 15, 2021', 'September 17, 2021',\n",
       "       'September 18, 2021', 'September 19, 2021', 'September 22, 2021',\n",
       "       'September 25, 2021', 'September 26, 2021', 'September 29, 2021',\n",
       "       'September 30, 2021', 'October 1, 2021', 'October 2, 2021',\n",
       "       'October 3, 2021', 'October 4, 2021', 'October 5, 2021',\n",
       "       'October 6, 2021', 'October 7, 2021', 'October 8, 2021',\n",
       "       'October 10, 2021'], dtype=object)"
      ]
     },
     "execution_count": 19,
     "metadata": {},
     "output_type": "execute_result"
    }
   ],
   "source": [
    "amazonPrime['date_added'].unique()"
   ]
  },
  {
   "cell_type": "code",
   "execution_count": 20,
   "metadata": {
    "execution": {
     "iopub.execute_input": "2021-06-21T07:27:39.40922Z",
     "iopub.status.busy": "2021-06-21T07:27:39.408731Z",
     "iopub.status.idle": "2021-06-21T07:27:39.415193Z",
     "shell.execute_reply": "2021-06-21T07:27:39.41423Z",
     "shell.execute_reply.started": "2021-06-21T07:27:39.40919Z"
    }
   },
   "outputs": [],
   "source": [
    "amazonPrime['date_added'].fillna(amazonPrime['date_added'].value_counts().index[0],inplace=True)"
   ]
  },
  {
   "cell_type": "code",
   "execution_count": 21,
   "metadata": {
    "execution": {
     "iopub.execute_input": "2021-06-21T07:28:07.19947Z",
     "iopub.status.busy": "2021-06-21T07:28:07.199145Z",
     "iopub.status.idle": "2021-06-21T07:28:07.209531Z",
     "shell.execute_reply": "2021-06-21T07:28:07.208229Z",
     "shell.execute_reply.started": "2021-06-21T07:28:07.199446Z"
    }
   },
   "outputs": [
    {
     "data": {
      "text/plain": [
       "show_id           0\n",
       "type              0\n",
       "title             0\n",
       "director          0\n",
       "cast              0\n",
       "country           0\n",
       "date_added        0\n",
       "release_year      0\n",
       "rating          337\n",
       "duration          0\n",
       "listed_in         0\n",
       "description       0\n",
       "dtype: int64"
      ]
     },
     "execution_count": 21,
     "metadata": {},
     "output_type": "execute_result"
    }
   ],
   "source": [
    "amazonPrime.isnull().sum()"
   ]
  },
  {
   "cell_type": "code",
   "execution_count": 22,
   "metadata": {
    "execution": {
     "iopub.execute_input": "2021-06-21T07:28:33.155764Z",
     "iopub.status.busy": "2021-06-21T07:28:33.155216Z",
     "iopub.status.idle": "2021-06-21T07:28:33.1634Z",
     "shell.execute_reply": "2021-06-21T07:28:33.161784Z",
     "shell.execute_reply.started": "2021-06-21T07:28:33.155722Z"
    }
   },
   "outputs": [
    {
     "data": {
      "text/plain": [
       "array([nan, '13+', 'ALL', '18+', 'R', 'TV-Y', 'TV-Y7', 'NR', '16+',\n",
       "       'TV-PG', '7+', 'TV-14', 'TV-NR', 'TV-G', 'PG-13', 'TV-MA', 'G',\n",
       "       'PG', 'NC-17', 'UNRATED', '16', 'AGES_16_', 'AGES_18_', 'ALL_AGES',\n",
       "       'NOT_RATE'], dtype=object)"
      ]
     },
     "execution_count": 22,
     "metadata": {},
     "output_type": "execute_result"
    }
   ],
   "source": [
    "amazonPrime['rating'].unique()"
   ]
  },
  {
   "cell_type": "code",
   "execution_count": 23,
   "metadata": {
    "execution": {
     "iopub.execute_input": "2021-06-21T07:29:16.299968Z",
     "iopub.status.busy": "2021-06-21T07:29:16.299472Z",
     "iopub.status.idle": "2021-06-21T07:29:16.305124Z",
     "shell.execute_reply": "2021-06-21T07:29:16.304532Z",
     "shell.execute_reply.started": "2021-06-21T07:29:16.299928Z"
    }
   },
   "outputs": [],
   "source": [
    "amazonPrime['rating'].fillna(amazonPrime['rating'].value_counts().index[0],inplace=True)"
   ]
  },
  {
   "cell_type": "code",
   "execution_count": 25,
   "metadata": {
    "execution": {
     "iopub.execute_input": "2021-06-21T07:29:26.247876Z",
     "iopub.status.busy": "2021-06-21T07:29:26.247349Z",
     "iopub.status.idle": "2021-06-21T07:29:26.257305Z",
     "shell.execute_reply": "2021-06-21T07:29:26.255731Z",
     "shell.execute_reply.started": "2021-06-21T07:29:26.247836Z"
    }
   },
   "outputs": [
    {
     "data": {
      "text/plain": [
       "show_id         0\n",
       "type            0\n",
       "title           0\n",
       "director        0\n",
       "cast            0\n",
       "country         0\n",
       "date_added      0\n",
       "release_year    0\n",
       "rating          0\n",
       "duration        0\n",
       "listed_in       0\n",
       "description     0\n",
       "dtype: int64"
      ]
     },
     "execution_count": 25,
     "metadata": {},
     "output_type": "execute_result"
    }
   ],
   "source": [
    "amazonPrime.isnull().sum()"
   ]
  },
  {
   "cell_type": "code",
   "execution_count": null,
   "metadata": {
    "execution": {
     "iopub.execute_input": "2021-06-21T07:30:57.106934Z",
     "iopub.status.busy": "2021-06-21T07:30:57.106646Z",
     "iopub.status.idle": "2021-06-21T07:30:57.144196Z",
     "shell.execute_reply": "2021-06-21T07:30:57.142903Z",
     "shell.execute_reply.started": "2021-06-21T07:30:57.106911Z"
    }
   },
   "outputs": [],
   "source": [
    "x[x['No of seasons available'] == x['No of seasons available'].max()]"
   ]
  },
  {
   "cell_type": "code",
   "execution_count": null,
   "metadata": {
    "execution": {
     "iopub.execute_input": "2021-06-21T07:31:17.874499Z",
     "iopub.status.busy": "2021-06-21T07:31:17.874022Z",
     "iopub.status.idle": "2021-06-21T07:31:17.889778Z",
     "shell.execute_reply": "2021-06-21T07:31:17.888836Z",
     "shell.execute_reply.started": "2021-06-21T07:31:17.874469Z"
    }
   },
   "outputs": [],
   "source": [
    "x[x['Year of release'] == x['Year of release'].min()]"
   ]
  },
  {
   "cell_type": "code",
   "execution_count": null,
   "metadata": {
    "execution": {
     "iopub.execute_input": "2021-06-21T07:31:32.812938Z",
     "iopub.status.busy": "2021-06-21T07:31:32.812491Z",
     "iopub.status.idle": "2021-06-21T07:31:33.158743Z",
     "shell.execute_reply": "2021-06-21T07:31:33.157486Z",
     "shell.execute_reply.started": "2021-06-21T07:31:32.812907Z"
    }
   },
   "outputs": [],
   "source": [
    "corr_matrix=x.corr().round(1)\n",
    "plt.figure(figsize=(12,8))\n",
    "sns.heatmap(data=corr_matrix, annot=True, linewidths=0.1, square=True)"
   ]
  },
  {
   "cell_type": "code",
   "execution_count": null,
   "metadata": {
    "execution": {
     "iopub.execute_input": "2021-06-21T07:31:51.465222Z",
     "iopub.status.busy": "2021-06-21T07:31:51.464881Z",
     "iopub.status.idle": "2021-06-21T07:31:51.615778Z",
     "shell.execute_reply": "2021-06-21T07:31:51.614754Z",
     "shell.execute_reply.started": "2021-06-21T07:31:51.465194Z"
    }
   },
   "outputs": [],
   "source": [
    "sns.countplot(x = \"Age of viewers\", data =x)"
   ]
  },
  {
   "cell_type": "code",
   "execution_count": null,
   "metadata": {
    "execution": {
     "iopub.execute_input": "2021-06-21T07:32:50.201488Z",
     "iopub.status.busy": "2021-06-21T07:32:50.201213Z",
     "iopub.status.idle": "2021-06-21T07:32:50.390537Z",
     "shell.execute_reply": "2021-06-21T07:32:50.389186Z",
     "shell.execute_reply.started": "2021-06-21T07:32:50.201462Z"
    }
   },
   "outputs": [],
   "source": [
    "plt.figure(figsize = (10,7))\n",
    "sns.countplot(y = \"Language\", data =x)"
   ]
  },
  {
   "cell_type": "code",
   "execution_count": null,
   "metadata": {
    "execution": {
     "iopub.execute_input": "2021-06-21T07:33:03.465804Z",
     "iopub.status.busy": "2021-06-21T07:33:03.46544Z",
     "iopub.status.idle": "2021-06-21T07:33:04.056781Z",
     "shell.execute_reply": "2021-06-21T07:33:04.054759Z",
     "shell.execute_reply.started": "2021-06-21T07:33:03.46577Z"
    }
   },
   "outputs": [],
   "source": [
    "plt.figure(figsize = (18,15))\n",
    "sns.countplot(y = 'Genre', data = x)"
   ]
  },
  {
   "cell_type": "code",
   "execution_count": null,
   "metadata": {
    "execution": {
     "iopub.execute_input": "2021-06-21T07:33:49.357415Z",
     "iopub.status.busy": "2021-06-21T07:33:49.356889Z",
     "iopub.status.idle": "2021-06-21T07:33:49.374416Z",
     "shell.execute_reply": "2021-06-21T07:33:49.373435Z",
     "shell.execute_reply.started": "2021-06-21T07:33:49.357387Z"
    }
   },
   "outputs": [],
   "source": [
    "x[x['Language'] == 'Hindi'].sort_values(by = 'IMDb rating', ascending = False).head(5)"
   ]
  },
  {
   "cell_type": "code",
   "execution_count": null,
   "metadata": {
    "execution": {
     "iopub.execute_input": "2021-06-21T07:34:00.375743Z",
     "iopub.status.busy": "2021-06-21T07:34:00.375318Z",
     "iopub.status.idle": "2021-06-21T07:34:00.395928Z",
     "shell.execute_reply": "2021-06-21T07:34:00.394823Z",
     "shell.execute_reply.started": "2021-06-21T07:34:00.375707Z"
    }
   },
   "outputs": [],
   "source": [
    "x[x['Language'] == 'English'].sort_values(by = 'IMDb rating', ascending = False).head(5)"
   ]
  },
  {
   "cell_type": "code",
   "execution_count": null,
   "metadata": {
    "execution": {
     "iopub.execute_input": "2021-06-21T07:34:43.942351Z",
     "iopub.status.busy": "2021-06-21T07:34:43.941822Z",
     "iopub.status.idle": "2021-06-21T07:34:44.131141Z",
     "shell.execute_reply": "2021-06-21T07:34:44.130078Z",
     "shell.execute_reply.started": "2021-06-21T07:34:43.94232Z"
    }
   },
   "outputs": [],
   "source": [
    "temp = pd.crosstab(x['IMDb rating'],x['Language'])\n",
    "Hindi_data = temp.Hindi\n",
    "English_data = temp['English']\n",
    "top_five_Hindi = Hindi_data.sort_values(ascending=False).head(6)\n",
    "top_five_English = English_data.sort_values(ascending=False).head()\n",
    "\n",
    "\n",
    "plt.figure(figsize=(8,8))\n",
    "plot = sns.barplot(x=top_five_Hindi.keys(), y=top_five_Hindi)\n",
    "plot.set(title='Top 5 Hindi Movies')\n",
    "plt.show()"
   ]
  },
  {
   "cell_type": "code",
   "execution_count": null,
   "metadata": {
    "execution": {
     "iopub.execute_input": "2021-06-21T07:35:02.760736Z",
     "iopub.status.busy": "2021-06-21T07:35:02.760437Z",
     "iopub.status.idle": "2021-06-21T07:35:02.902102Z",
     "shell.execute_reply": "2021-06-21T07:35:02.901287Z",
     "shell.execute_reply.started": "2021-06-21T07:35:02.760711Z"
    }
   },
   "outputs": [],
   "source": [
    "plt.figure(figsize=(8,8))\n",
    "plot = sns.barplot(x=top_five_English.keys(), y=top_five_English)\n",
    "plot.set(title='Top 5 English Movies')\n",
    "plt.show()"
   ]
  },
  {
   "cell_type": "code",
   "execution_count": null,
   "metadata": {
    "execution": {
     "iopub.execute_input": "2021-06-21T07:35:22.887235Z",
     "iopub.status.busy": "2021-06-21T07:35:22.886919Z",
     "iopub.status.idle": "2021-06-21T07:35:26.252296Z",
     "shell.execute_reply": "2021-06-21T07:35:26.250988Z",
     "shell.execute_reply.started": "2021-06-21T07:35:22.887207Z"
    }
   },
   "outputs": [],
   "source": [
    "sns.pairplot(x)"
   ]
  },
  {
   "cell_type": "code",
   "execution_count": null,
   "metadata": {
    "execution": {
     "iopub.execute_input": "2021-06-21T07:36:18.817111Z",
     "iopub.status.busy": "2021-06-21T07:36:18.816821Z",
     "iopub.status.idle": "2021-06-21T07:36:19.037103Z",
     "shell.execute_reply": "2021-06-21T07:36:19.035862Z",
     "shell.execute_reply.started": "2021-06-21T07:36:18.817087Z"
    }
   },
   "outputs": [],
   "source": [
    "plt.figure(figsize=(15,5))\n",
    "plt.bar(x.groupby('Year of release')['Year of release'].count().index,x.groupby('Year of release')['IMDb rating'].mean(),alpha=0.65)\n",
    "plt.xlabel(\"Year of release\",fontsize=12)\n",
    "plt.ylabel(\"Avg IMDb rating\",fontsize=12)\n",
    "plt.title(\"IMDb rating w.r.t Year of release\")\n",
    "plt.show()"
   ]
  },
  {
   "cell_type": "code",
   "execution_count": null,
   "metadata": {
    "execution": {
     "iopub.execute_input": "2021-06-21T07:36:49.973057Z",
     "iopub.status.busy": "2021-06-21T07:36:49.97258Z",
     "iopub.status.idle": "2021-06-21T07:36:50.397205Z",
     "shell.execute_reply": "2021-06-21T07:36:50.396439Z",
     "shell.execute_reply.started": "2021-06-21T07:36:49.973027Z"
    }
   },
   "outputs": [],
   "source": [
    "plt.figure(figsize=(15,5))\n",
    "plt.bar(x.groupby('Year of release')['Year of release'].count().index,x.groupby('Year of release')['No of seasons available'].mean(),alpha=0.65)\n",
    "plt.xlabel(\"Year of release\",fontsize=12)\n",
    "plt.ylabel(\"Avg No of seasons available\",fontsize=12)\n",
    "plt.title(\"No of seasons available w.r.t Year of release\")\n",
    "plt.show()"
   ]
  },
  {
   "cell_type": "code",
   "execution_count": null,
   "metadata": {
    "execution": {
     "iopub.execute_input": "2021-06-21T07:37:53.076322Z",
     "iopub.status.busy": "2021-06-21T07:37:53.076005Z",
     "iopub.status.idle": "2021-06-21T07:37:53.347268Z",
     "shell.execute_reply": "2021-06-21T07:37:53.346051Z",
     "shell.execute_reply.started": "2021-06-21T07:37:53.076297Z"
    }
   },
   "outputs": [],
   "source": [
    "plt.figure(figsize=(17,10))\n",
    "plt.bar(x.groupby('Language')['Language'].count().index,x.groupby('Language')['IMDb rating'].mean(),alpha=0.65)\n",
    "plt.xlabel(\"Language\",fontsize=12)\n",
    "plt.ylabel(\"Avg IMDb rating\",fontsize=12)\n",
    "plt.title(\"IMDb rating w.r.t Language\")\n",
    "plt.show()"
   ]
  },
  {
   "cell_type": "code",
   "execution_count": null,
   "metadata": {
    "execution": {
     "iopub.execute_input": "2021-06-21T07:38:13.003606Z",
     "iopub.status.busy": "2021-06-21T07:38:13.003307Z",
     "iopub.status.idle": "2021-06-21T07:38:13.107496Z",
     "shell.execute_reply": "2021-06-21T07:38:13.106882Z",
     "shell.execute_reply.started": "2021-06-21T07:38:13.003572Z"
    }
   },
   "outputs": [],
   "source": [
    "plt.subplot(1,3,1)\n",
    "plt.scatter(x[\"IMDb rating\"], x[\"Year of release\"])\n",
    "plt.title(\"IMDb rating vs Year of release\")"
   ]
  },
  {
   "cell_type": "code",
   "execution_count": null,
   "metadata": {
    "execution": {
     "iopub.execute_input": "2021-06-21T07:38:32.602671Z",
     "iopub.status.busy": "2021-06-21T07:38:32.602264Z",
     "iopub.status.idle": "2021-06-21T07:38:32.699141Z",
     "shell.execute_reply": "2021-06-21T07:38:32.698302Z",
     "shell.execute_reply.started": "2021-06-21T07:38:32.602647Z"
    }
   },
   "outputs": [],
   "source": [
    "plt.subplot(1,3,1)\n",
    "plt.scatter(x[\"No of seasons available\"], x[\"Year of release\"])\n",
    "plt.title(\"No of seasons available vs Year of release\")"
   ]
  }
 ],
 "metadata": {
  "kernelspec": {
   "display_name": "Python 3 (ipykernel)",
   "language": "python",
   "name": "python3"
  },
  "language_info": {
   "codemirror_mode": {
    "name": "ipython",
    "version": 3
   },
   "file_extension": ".py",
   "mimetype": "text/x-python",
   "name": "python",
   "nbconvert_exporter": "python",
   "pygments_lexer": "ipython3",
   "version": "3.9.12"
  }
 },
 "nbformat": 4,
 "nbformat_minor": 4
}
